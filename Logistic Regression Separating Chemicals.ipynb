{
 "cells": [
  {
   "cell_type": "code",
   "execution_count": 225,
   "metadata": {},
   "outputs": [],
   "source": [
    "import numpy as np\n",
    "import pandas as pd\n",
    "import matplotlib.pyplot as plt"
   ]
  },
  {
   "cell_type": "code",
   "execution_count": 226,
   "metadata": {},
   "outputs": [
    {
     "data": {
      "text/plain": [
       "((3000, 3), (3000, 1))"
      ]
     },
     "execution_count": 226,
     "metadata": {},
     "output_type": "execute_result"
    }
   ],
   "source": [
    "X = pd.read_csv(\"./Training Data Separating Chemicals/Logistic_X_Train.csv\")\n",
    "X_test = pd.read_csv(\"./Test Cases Separating chemicals/Logistic_X_Test.csv\")\n",
    "y = pd.read_csv(\"./Training Data Separating Chemicals/Logistic_Y_Train.csv\")\n",
    "X.shape, y.shape"
   ]
  },
  {
   "cell_type": "code",
   "execution_count": 227,
   "metadata": {},
   "outputs": [
    {
     "data": {
      "text/plain": [
       "(3000, 3)"
      ]
     },
     "execution_count": 227,
     "metadata": {},
     "output_type": "execute_result"
    }
   ],
   "source": [
    "#normalization\n",
    "y = np.array(y)\n",
    "X = np.array(X)\n",
    "X = (X - X.mean())/X.std()\n",
    "X.shape"
   ]
  },
  {
   "cell_type": "code",
   "execution_count": 228,
   "metadata": {},
   "outputs": [],
   "source": [
    "def hypothesis(x, theta, b):\n",
    "    h = np.dot(x, theta) + b\n",
    "    return sigmoid(h)"
   ]
  },
  {
   "cell_type": "code",
   "execution_count": 229,
   "metadata": {},
   "outputs": [],
   "source": [
    "def sigmoid(z):\n",
    "    return 1.0/(1.0 + np.exp(-1.0*z))"
   ]
  },
  {
   "cell_type": "code",
   "execution_count": 230,
   "metadata": {},
   "outputs": [],
   "source": [
    "def error(x, y_true, theta, b):\n",
    "    m = x.shape[0]\n",
    "    e = 0.0\n",
    "    for i in range(m):\n",
    "        hx = hypothesis(x[i], theta, b)\n",
    "        e += y_true[i]*np.log2(hx) + (1 - y_true[i])*np.log2(1 - hx)\n",
    "    return -e/m"
   ]
  },
  {
   "cell_type": "code",
   "execution_count": 231,
   "metadata": {},
   "outputs": [],
   "source": [
    "def gradient(x, theta, y_true, b):\n",
    "    grad_theta = np.zeros(theta.shape)\n",
    "    grad_b = 0.0\n",
    "    m = x.shape[0]\n",
    "    for i in range(m):\n",
    "        hx = hypothesis(x[i], theta, b)\n",
    "        grad_theta += (y_true[i] - hx)*x[i]\n",
    "        grad_b += (y_true[i] - hx)\n",
    "    grad_theta /= m\n",
    "    grad_b /= m\n",
    "    return [grad_theta, grad_b]"
   ]
  },
  {
   "cell_type": "code",
   "execution_count": 232,
   "metadata": {},
   "outputs": [],
   "source": [
    "def gradientDescent(x, y_true, theta, b, learning_rate = 0.1):\n",
    "    e = error(x, y_true, theta, b)\n",
    "    [grad_theta, grad_b] = gradient(x, theta, y_true, b)\n",
    "    theta = theta + learning_rate*grad_theta\n",
    "    b = b + learning_rate*grad_b\n",
    "    return e, theta, b"
   ]
  },
  {
   "cell_type": "code",
   "execution_count": 233,
   "metadata": {},
   "outputs": [],
   "source": [
    "def predict(x, theta, b):\n",
    "    confidence = hypothesis(x, theta, b)\n",
    "    if (confidence < 0.5):\n",
    "        return 0\n",
    "    else:\n",
    "        return 1"
   ]
  },
  {
   "cell_type": "code",
   "execution_count": 234,
   "metadata": {},
   "outputs": [],
   "source": [
    "def accuracy(x_test, y_test, theta, b):\n",
    "    y_pred = []\n",
    "    for i in range(600):\n",
    "        p = predict(x_test[i], theta, b)\n",
    "        y_pred.append(p)\n",
    "    y_pred = np.array(y_pred)\n",
    "    y_test = np.array(y_test)\n",
    "    return float((y_pred == y_test).sum())/600\n",
    "    "
   ]
  },
  {
   "cell_type": "code",
   "execution_count": 235,
   "metadata": {},
   "outputs": [
    {
     "data": {
      "text/plain": [
       "(3,)"
      ]
     },
     "execution_count": 235,
     "metadata": {},
     "output_type": "execute_result"
    }
   ],
   "source": [
    "loss = []\n",
    "acc = []\n",
    "theta = np.zeros((X.shape[1],))\n",
    "b = 5*np.random.random()\n",
    "theta.shape"
   ]
  },
  {
   "cell_type": "code",
   "execution_count": 236,
   "metadata": {},
   "outputs": [],
   "source": [
    "for i in range(100):\n",
    "    l,theta,b = gradientDescent(X, y, theta, b, learning_rate = 20)\n",
    "    loss.append(l)\n",
    "    a = accuracy(X, y, theta, b)\n",
    "    acc.append(a)"
   ]
  },
  {
   "cell_type": "code",
   "execution_count": 237,
   "metadata": {},
   "outputs": [
    {
     "name": "stdout",
     "output_type": "stream",
     "text": [
      "[0.04710619]\n"
     ]
    }
   ],
   "source": [
    "print(l)"
   ]
  },
  {
   "cell_type": "code",
   "execution_count": 238,
   "metadata": {},
   "outputs": [
    {
     "data": {
      "image/png": "[encoded data removed]",
      "text/plain": [
       "<Figure size 432x288 with 1 Axes>"
      ]
     },
     "metadata": {},
     "output_type": "display_data"
    }
   ],
   "source": [
    "plt.style.use(\"dark_background\")\n",
    "plt.title(\"Loss Estimation\", color = 'green', fontsize = 20)\n",
    "plt.xlabel(\"Iterations\", color = 'orange', fontsize = 15)\n",
    "plt.ylabel(\"Loss\", color = 'orange', fontsize = 15)\n",
    "plt.plot(loss)\n",
    "plt.grid(True, color = \"grey\")\n",
    "plt.show()"
   ]
  },
  {
   "cell_type": "code",
   "execution_count": 241,
   "metadata": {},
   "outputs": [
    {
     "data": {
      "text/plain": [
       "1500.06"
      ]
     },
     "execution_count": 241,
     "metadata": {},
     "output_type": "execute_result"
    }
   ],
   "source": [
    "acc[-1]"
   ]
  },
  {
   "cell_type": "code",
   "execution_count": 245,
   "metadata": {},
   "outputs": [
    {
     "data": {
      "image/png": "[encoded data removed]",
      "text/plain": [
       "<Figure size 432x288 with 1 Axes>"
      ]
     },
     "metadata": {},
     "output_type": "display_data"
    }
   ],
   "source": [
    "plt.plot(acc)\n",
    "plt.show()"
   ]
  },
  {
   "cell_type": "code",
   "execution_count": 250,
   "metadata": {},
   "outputs": [],
   "source": [
    "p = []\n",
    "X_test = np.array(X_test)\n",
    "for i in range(X_test.shape[0]):\n",
    "    p.append(predict(X_test[i], theta, b))\n",
    "df = pd.DataFrame({'label': list(p)})\n",
    "df.to_csv('Submission_separating_chemicals.csv', index = False)"
   ]
  },
  {
   "cell_type": "code",
   "execution_count": null,
   "metadata": {},
   "outputs": [],
   "source": []
  }
 ],
 "metadata": {
  "kernelspec": {
   "display_name": "Python 3",
   "language": "python",
   "name": "python3"
  },
  "language_info": {
   "codemirror_mode": {
    "name": "ipython",
    "version": 3
   },
   "file_extension": ".py",
   "mimetype": "text/x-python",
   "name": "python",
   "nbconvert_exporter": "python",
   "pygments_lexer": "ipython3",
   "version": "3.7.3"
  }
 },
 "nbformat": 4,
 "nbformat_minor": 2
}
